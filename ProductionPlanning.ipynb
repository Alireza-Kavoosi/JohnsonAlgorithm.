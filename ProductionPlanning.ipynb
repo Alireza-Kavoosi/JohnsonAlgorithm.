{
  "nbformat": 4,
  "nbformat_minor": 0,
  "metadata": {
    "colab": {
      "provenance": []
    },
    "kernelspec": {
      "name": "python3",
      "display_name": "Python 3"
    },
    "language_info": {
      "name": "python"
    }
  },
  "cells": [
    {
      "cell_type": "markdown",
      "source": [
        "# Written by: Alireza Kavoosi\n",
        "\n",
        "Johnson's algorithm, to findout the shortest paths"
      ],
      "metadata": {
        "id": "FJtAIjrHVsAC"
      }
    },
    {
      "cell_type": "markdown",
      "source": [],
      "metadata": {
        "id": "bTXT9mTIZbpT"
      }
    },
    {
      "cell_type": "markdown",
      "source": [
        "Importing the scipy library for using the johnson function"
      ],
      "metadata": {
        "id": "g4oUb8fgWNGb"
      }
    },
    {
      "cell_type": "code",
      "source": [
        "import scipy.sparse as sp\n",
        "import scipy.sparse.csgraph as cg"
      ],
      "metadata": {
        "id": "-a4G2w2xWYQi"
      },
      "execution_count": null,
      "outputs": []
    },
    {
      "cell_type": "markdown",
      "source": [
        "Defining the number of jobs and machines"
      ],
      "metadata": {
        "id": "8FNJaa1fWb1S"
      }
    },
    {
      "cell_type": "code",
      "source": [
        "n = 5 # Number of jobs\n",
        "m = 2 # Number of machines"
      ],
      "metadata": {
        "id": "Ca8ZT4oBWfTq"
      },
      "execution_count": null,
      "outputs": []
    },
    {
      "cell_type": "markdown",
      "source": [
        "Defining the processing times of jobs on machines\n",
        "\n",
        "Each row represents a job and each column represents a machine\n",
        "\n",
        "The processing time of job i on machine j is p[i][j]"
      ],
      "metadata": {
        "id": "baZF4VtmWmHC"
      }
    },
    {
      "cell_type": "code",
      "source": [
        "p = [[1, 3], # Processing time of job 1 on machine 1 and 2\n",
        "     [2, 5], # Processing time of job 2 on machine 1 and 2\n",
        "     [4, 1], # Processing time of job 3 on machine 1 and 2\n",
        "     [3, 2], # Processing time of job 4 on machine 1 and 2\n",
        "     [6, 4]] # Processing time of job 5 on machine 1 and 2"
      ],
      "metadata": {
        "id": "pVbCkd7DWuPy"
      },
      "execution_count": null,
      "outputs": []
    },
    {
      "cell_type": "markdown",
      "source": [
        "Defining the due dates of jobs\n",
        "\n",
        "The due date of job i is d[i]"
      ],
      "metadata": {
        "id": "HoD39-WEXBc5"
      }
    },
    {
      "cell_type": "code",
      "source": [
        "d = [5, # Due date of job 1\n",
        "     12, # Due date of job 2\n",
        "     16, # Due date of job 3\n",
        "     20, # Due date of job 4\n",
        "     25] # Due date of job 5"
      ],
      "metadata": {
        "id": "CQTnfKbRXGUq"
      },
      "execution_count": null,
      "outputs": []
    },
    {
      "cell_type": "markdown",
      "source": [
        "Constructing the weighted directed graph for the jobs and machines\n",
        "\n",
        "The graph has n + m + 2 vertices\n",
        "\n",
        "The first vertex is the source, the last vertex is the sink\n",
        "\n",
        "The vertices from 1 to n represent the jobs\n",
        "\n",
        "The vertices from n + 1 to n + m represent the machines\n",
        "\n",
        "The edges from the source to the jobs have zero weight\n",
        "\n",
        "The edges from the jobs to the machines have weight equal to the processing time of the corresponding job on that machine\n",
        "\n",
        "The edges from the machines to the sink have zero weight\n",
        "\n",
        "The graph is represented as a sparse matrix using the csr_matrix function"
      ],
      "metadata": {
        "id": "oKWN8bQkXSgC"
      }
    },
    {
      "cell_type": "markdown",
      "source": [
        "Defining the number of vertices and edges in the graph"
      ],
      "metadata": {
        "id": "SSRdFy3QXez7"
      }
    },
    {
      "cell_type": "code",
      "source": [
        "V = n + m + 2 # Number of vertices\n",
        "E = n + n * m + m # Number of edges"
      ],
      "metadata": {
        "id": "Hyol_jffXjbK"
      },
      "execution_count": null,
      "outputs": []
    },
    {
      "cell_type": "markdown",
      "source": [
        "Defining the row, column and data arrays for the sparse matrix"
      ],
      "metadata": {
        "id": "ByKx2ehLXm9T"
      }
    },
    {
      "cell_type": "code",
      "source": [
        "row = [] # Row indices of the non-zero entries\n",
        "col = [] # Column indices of the non-zero entries\n",
        "data = [] # Values of the non-zero entries"
      ],
      "metadata": {
        "id": "9talOfXXXrgC"
      },
      "execution_count": null,
      "outputs": []
    },
    {
      "cell_type": "markdown",
      "source": [
        "Adding the edges from the source to the jobs"
      ],
      "metadata": {
        "id": "Ct94pG3-XyRU"
      }
    },
    {
      "cell_type": "code",
      "source": [
        "for i in range(n):\n",
        "    row.append(0) # Source vertex index is 0\n",
        "    col.append(i + 1) # Job vertex index is i + 1\n",
        "    data.append(0) # Edge weight is 0"
      ],
      "metadata": {
        "id": "TFK3IjEMX07p"
      },
      "execution_count": null,
      "outputs": []
    },
    {
      "cell_type": "markdown",
      "source": [
        " Adding the edges from the jobs to the machines"
      ],
      "metadata": {
        "id": "zOoVlKdcX45C"
      }
    },
    {
      "cell_type": "code",
      "source": [
        "for i in range(n):\n",
        "    for j in range(m):\n",
        "        row.append(i + 1) # Job vertex index is i + 1\n",
        "        col.append(n + j + 1) # Machine vertex index is n + j + 1\n",
        "        data.append(p[i][j]) # Edge weight is p[i][j]"
      ],
      "metadata": {
        "id": "7KyoxxrYX5VK"
      },
      "execution_count": null,
      "outputs": []
    },
    {
      "cell_type": "markdown",
      "source": [
        "Adding the edges from the machines to the sink"
      ],
      "metadata": {
        "id": "s98IuHSyYAap"
      }
    },
    {
      "cell_type": "code",
      "source": [
        "for j in range(m):\n",
        "    row.append(n + j + 1) # Machine vertex index is n + j + 1\n",
        "    col.append(V - 1) # Sink vertex index is V - 1\n",
        "    data.append(0) # Edge weight is 0"
      ],
      "metadata": {
        "id": "OnVsSVX7YJLr"
      },
      "execution_count": null,
      "outputs": []
    },
    {
      "cell_type": "markdown",
      "source": [],
      "metadata": {
        "id": "IEhjnPk2YKfb"
      }
    },
    {
      "cell_type": "markdown",
      "source": [
        "Creating the sparse matrix using the csr_matrix function"
      ],
      "metadata": {
        "id": "CrNYZRU0YOAp"
      }
    },
    {
      "cell_type": "code",
      "source": [
        "graph = sp.csr_matrix((data, (row, col)), shape=(V, V))"
      ],
      "metadata": {
        "id": "1ugqcPfCYMPJ"
      },
      "execution_count": null,
      "outputs": []
    },
    {
      "cell_type": "markdown",
      "source": [
        "Finding the shortest path from the source to the sink using the johnson function\n"
      ],
      "metadata": {
        "id": "D4hdjBbHYT4K"
      }
    },
    {
      "cell_type": "code",
      "source": [
        "dist_matrix, predecessors = cg.johnson(graph, directed=True, indices=0, return_predecessors=True)"
      ],
      "metadata": {
        "id": "VIaXQ-x8Ya6i"
      },
      "execution_count": null,
      "outputs": []
    },
    {
      "cell_type": "markdown",
      "source": [
        "# Printing the shortest path length"
      ],
      "metadata": {
        "id": "mcYo3m-aYmFz"
      }
    },
    {
      "cell_type": "code",
      "source": [
        "print(\"The shortest path length is:\", dist_matrix[V - 1])"
      ],
      "metadata": {
        "colab": {
          "base_uri": "https://localhost:8080/"
        },
        "id": "n53g6mBIYk_6",
        "outputId": "16e85502-713d-48db-ae3d-421e9e1c51f5"
      },
      "execution_count": null,
      "outputs": [
        {
          "output_type": "stream",
          "name": "stdout",
          "text": [
            "The shortest path length is: 1.0\n"
          ]
        }
      ]
    },
    {
      "cell_type": "code",
      "source": [
        "# Reconstructing the shortest path from the predecessors matrix\n",
        "path = [] # List to store the vertices in the shortest path\n",
        "v = V - 1 # Starting from the sink vertex\n",
        "while v != -9999: # Looping until reaching the source vertex\n",
        "    path.append(v) # Appending the current vertex to the path list\n",
        "    v = predecessors[v] # Moving to the previous vertex in the path"
      ],
      "metadata": {
        "id": "01ChPGqTYqZd"
      },
      "execution_count": null,
      "outputs": []
    },
    {
      "cell_type": "code",
      "source": [
        "# Reversing the path list to get the correct order of vertices\n",
        "path.reverse()"
      ],
      "metadata": {
        "id": "Ja4izhgnYt9K"
      },
      "execution_count": null,
      "outputs": []
    },
    {
      "cell_type": "code",
      "source": [
        "# Printing the shortest path\n",
        "print(\"The shortest path is:\", path)"
      ],
      "metadata": {
        "colab": {
          "base_uri": "https://localhost:8080/"
        },
        "id": "9jtIed7DYxMa",
        "outputId": "befdf431-0822-4153-9d24-3e9f9076a882"
      },
      "execution_count": null,
      "outputs": [
        {
          "output_type": "stream",
          "name": "stdout",
          "text": [
            "The shortest path is: [0, 1, 6, 8]\n"
          ]
        }
      ]
    },
    {
      "cell_type": "markdown",
      "source": [
        "Calculating and printing the completion time of each job on each machine\n",
        "\n",
        "The completion time of job i on machine j is c[i][j]"
      ],
      "metadata": {
        "id": "79K6W4I6Y4gi"
      }
    },
    {
      "cell_type": "code",
      "source": [
        "c = [[0 for j in range(m)] for i in range(n)] # Initializing the completion time matrix with zeros\n",
        "for v in path: # Looping through the vertices in the path\n",
        "    if v > 0 and v <= n: # If the vertex represents a job\n",
        "        i = v - 1 # Job index is v - 1\n",
        "        c[i][0] = max(c[i - 1][0], c[i][0]) + p[i][0] # Completion time of job i on machine 1 is equal to the maximum of the completion time of job i - 1 on machine 1 and the completion time of job i on machine 0, plus the processing time of job i on machine 1\n",
        "    elif v > n and v < V - 1: # If the vertex represents a machine\n",
        "        j = v - n - 1 # Machine index is v - n - 1\n",
        "        for i in range(n): # Looping through the jobs\n",
        "            c[i][j] = max(c[i][j - 1], c[i][j]) + p[i][j] # Completion time of job i on machine j is equal to the maximum of the completion time of job i on machine j - 1 and the completion time of job i on machine j, plus the processing time of job i on machine j\n",
        "\n",
        "print(\"The completion time matrix is:\")\n",
        "for i in range(n):\n",
        "    print(c[i])"
      ],
      "metadata": {
        "colab": {
          "base_uri": "https://localhost:8080/"
        },
        "id": "qplY_tQsY7li",
        "outputId": "d823865f-063e-496d-f385-c33da8e42a32"
      },
      "execution_count": null,
      "outputs": [
        {
          "output_type": "stream",
          "name": "stdout",
          "text": [
            "The completion time matrix is:\n",
            "[2, 0]\n",
            "[2, 0]\n",
            "[4, 0]\n",
            "[3, 0]\n",
            "[6, 0]\n"
          ]
        }
      ]
    },
    {
      "cell_type": "markdown",
      "source": [
        "Calculating and printing the tardiness of each job\n",
        "\n",
        "The tardiness of job i is T[i] = max(c[i][m - 1] - d[i], 0)"
      ],
      "metadata": {
        "id": "aJgQAWSWZDN6"
      }
    },
    {
      "cell_type": "code",
      "execution_count": null,
      "metadata": {
        "id": "i_qG-z3eVWXF",
        "colab": {
          "base_uri": "https://localhost:8080/"
        },
        "outputId": "e7729864-82c2-4e69-fd06-28e4dc5039fd"
      },
      "outputs": [
        {
          "output_type": "stream",
          "name": "stdout",
          "text": [
            "The tardiness vector is: [0, 0, 0, 0, 0]\n"
          ]
        }
      ],
      "source": [
        "T = [max(c[i][m - 1] - d[i], 0) for i in range(n)] # Initializing and computing the tardiness list\n",
        "\n",
        "print(\"The tardiness vector is:\", T)"
      ]
    },
    {
      "cell_type": "markdown",
      "source": [
        "Calculating and printing the maximum and average tardiness"
      ],
      "metadata": {
        "id": "qrNKKv-IZK5C"
      }
    },
    {
      "cell_type": "code",
      "source": [
        "max_T = max(T) # Maximum tardiness is equal to the maximum element in T list\n",
        "avg_T = sum(T) / n # Average tardiness is equal to the sum of elements in T list divided by n\n",
        "\n",
        "print(\"The maximum tardiness is:\", max_T)\n",
        "print(\"The average tardiness is:\", avg_T)"
      ],
      "metadata": {
        "colab": {
          "base_uri": "https://localhost:8080/"
        },
        "id": "u6tk7rPqZO0j",
        "outputId": "3bd219eb-35f2-43fb-b4cf-c9342e4ebad4"
      },
      "execution_count": null,
      "outputs": [
        {
          "output_type": "stream",
          "name": "stdout",
          "text": [
            "The maximum tardiness is: 0\n",
            "The average tardiness is: 0.0\n"
          ]
        }
      ]
    }
  ]
}